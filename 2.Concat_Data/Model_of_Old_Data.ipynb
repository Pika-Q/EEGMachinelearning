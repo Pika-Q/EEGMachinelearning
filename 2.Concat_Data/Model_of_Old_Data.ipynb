{
 "cells": [
  {
   "cell_type": "code",
   "execution_count": 1,
   "metadata": {
    "collapsed": true
   },
   "outputs": [],
   "source": [
    "import pandas as pd\n",
    "import csv"
   ]
  },
  {
   "cell_type": "code",
   "execution_count": 2,
   "metadata": {},
   "outputs": [],
   "source": [
    "d1 = pd.read_csv(\"/media/joseph/New Volume/3.Projects/ARIES_EEG_Project/Raw_Data/Modify_New_Data/New_Concatenated_Data/anil_ConcatBlink.csv\")\n",
    "d2 = pd.read_csv(\"/media/joseph/New Volume/3.Projects/ARIES_EEG_Project/Raw_Data/Modify_New_Data/New_Concatenated_Data/anil_ConcatClaps.csv\")\n",
    "d3 = pd.read_csv(\"/media/joseph/New Volume/3.Projects/ARIES_EEG_Project/Raw_Data/Modify_New_Data/New_Concatenated_Data/ansh_ConcatBlink.csv\")\n",
    "d4 = pd.read_csv(\"/media/joseph/New Volume/3.Projects/ARIES_EEG_Project/Raw_Data/Modify_New_Data/New_Concatenated_Data/ansh_ConcatClaps.csv\")\n",
    "d5 = pd.read_csv(\"/media/joseph/New Volume/3.Projects/ARIES_EEG_Project/Raw_Data/Modify_New_Data/New_Concatenated_Data/archit_ConcatBlink.csv\")\n",
    "d6 = pd.read_csv(\"/media/joseph/New Volume/3.Projects/ARIES_EEG_Project/Raw_Data/Modify_New_Data/New_Concatenated_Data/archit_ConcatClaps.csv\")\n",
    "d7 = pd.read_csv(\"/media/joseph/New Volume/3.Projects/ARIES_EEG_Project/Raw_Data/Modify_New_Data/New_Concatenated_Data/arpit_ConcatBlink.csv\")\n",
    "d8 = pd.read_csv(\"/media/joseph/New Volume/3.Projects/ARIES_EEG_Project/Raw_Data/Modify_New_Data/New_Concatenated_Data/arpit_ConcatClaps.csv\")\n",
    "d9 = pd.read_csv(\"/media/joseph/New Volume/3.Projects/ARIES_EEG_Project/Raw_Data/Modify_New_Data/New_Concatenated_Data/nitish_ConcatBlink.csv\")\n",
    "d10 = pd.read_csv(\"/media/joseph/New Volume/3.Projects/ARIES_EEG_Project/Raw_Data/Modify_New_Data/New_Concatenated_Data/nitish_ConcatClaps.csv\") \n",
    "d11 = pd.read_csv(\"/media/joseph/New Volume/3.Projects/ARIES_EEG_Project/Raw_Data/Modify_New_Data/New_Concatenated_Data/satyendra_ConcatBlink.csv\")\n",
    "d12 = pd.read_csv(\"/media/joseph/New Volume/3.Projects/ARIES_EEG_Project/Raw_Data/Modify_New_Data/New_Concatenated_Data/satyendra_ConcatClaps.csv\")\n",
    "d13 = pd.read_csv(\"/media/joseph/New Volume/3.Projects/ARIES_EEG_Project/Raw_Data/Modify_New_Data/New_Concatenated_Data/sushant_ConcatBlink.csv\")\n",
    "d14 = pd.read_csv(\"/media/joseph/New Volume/3.Projects/ARIES_EEG_Project/Raw_Data/Modify_New_Data/New_Concatenated_Data/sushant_ConcatClaps.csv\")\n",
    "d15 = pd.read_csv(\"/media/joseph/New Volume/3.Projects/ARIES_EEG_Project/Raw_Data/Modify_New_Data/New_Concatenated_Data/vipul_ConcatBlink.csv\")\n",
    "d16 = pd.read_csv(\"/media/joseph/New Volume/3.Projects/ARIES_EEG_Project/Raw_Data/Modify_New_Data/New_Concatenated_Data/vipul_ConcatClaps.csv\")"
   ]
  },
  {
   "cell_type": "code",
   "execution_count": 38,
   "metadata": {
    "collapsed": true
   },
   "outputs": [],
   "source": [
    "frm = [d1, d2, d3, d4, d6, d7, d8, d9, d10]\n",
    "frm1 = [d11, d12, d13, d14, d15, d16]"
   ]
  },
  {
   "cell_type": "code",
   "execution_count": 39,
   "metadata": {
    "collapsed": true
   },
   "outputs": [],
   "source": [
    "r1 = pd.concat(frm)\n",
    "r2 = pd.concat(frm1)"
   ]
  },
  {
   "cell_type": "code",
   "execution_count": 40,
   "metadata": {
    "collapsed": true
   },
   "outputs": [],
   "source": [
    "r1.to_csv(\"tr_data.csv\")\n",
    "r2.to_csv(\"ts_data.csv\")"
   ]
  },
  {
   "cell_type": "code",
   "execution_count": 42,
   "metadata": {},
   "outputs": [],
   "source": [
    "tr_data = pd.read_csv(\"/media/joseph/New Volume/3.Projects/ARIES_EEG_Project/Raw_Data/Modify_New_Data/New_Concatenated_Data/tr_data.csv\")\n",
    "ts_data = pd.read_csv(\"/media/joseph/New Volume/3.Projects/ARIES_EEG_Project/Raw_Data/Modify_New_Data/New_Concatenated_Data/ts_data.csv\")"
   ]
  },
  {
   "cell_type": "code",
   "execution_count": 43,
   "metadata": {
    "collapsed": true
   },
   "outputs": [],
   "source": [
    "labels = 'Label'\n",
    "\"\"\"\n",
    " 1 = Eye Blink\n",
    " 2 = Hand Clap\n",
    "\"\"\"\n",
    "features = [x for x in tr_data.columns if x not in labels]"
   ]
  },
  {
   "cell_type": "code",
   "execution_count": null,
   "metadata": {},
   "outputs": [],
   "source": [
    "from sklearn.svm import SVC\n",
    "from sklearn.metrics import accuracy_score\n",
    "clf=SVC(kernel = 'linear')\n",
    "clf.fit(tr_data[features],tr_data[labels])"
   ]
  },
  {
   "cell_type": "code",
   "execution_count": null,
   "metadata": {},
   "outputs": [],
   "source": [
    "prediction_svm=clf.predict(ts_data[features])\n",
    "accur=accuracy_score(prediction_svm, ts_data[labels])\n",
    "print accur"
   ]
  },
  {
   "cell_type": "code",
   "execution_count": null,
   "metadata": {
    "collapsed": true
   },
   "outputs": [],
   "source": []
  }
 ],
 "metadata": {
  "kernelspec": {
   "display_name": "Python 2",
   "language": "python",
   "name": "python2"
  },
  "language_info": {
   "codemirror_mode": {
    "name": "ipython",
    "version": 2
   },
   "file_extension": ".py",
   "mimetype": "text/x-python",
   "name": "python",
   "nbconvert_exporter": "python",
   "pygments_lexer": "ipython2",
   "version": "2.7.13"
  }
 },
 "nbformat": 4,
 "nbformat_minor": 2
}
