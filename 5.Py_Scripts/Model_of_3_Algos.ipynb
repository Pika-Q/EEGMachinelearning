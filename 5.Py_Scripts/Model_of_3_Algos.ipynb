{
 "cells": [
  {
   "cell_type": "code",
   "execution_count": 1,
   "metadata": {
    "collapsed": true
   },
   "outputs": [],
   "source": [
    "import numpy as np\n",
    "import pandas as pd\n",
    "import matplotlib.pyplot as plt\n",
    "from sklearn.metrics import accuracy_score\n",
    "from sklearn.metrics import confusion_matrix\n",
    "get_ipython().magic(u'matplotlib inline')"
   ]
  },
  {
   "cell_type": "code",
   "execution_count": 2,
   "metadata": {
    "collapsed": true
   },
   "outputs": [],
   "source": [
    "data = pd.read_csv(\"/media/joseph/New Volume/3.Projects/ARIES_EEG_Project/Raw_Data/Total_Normalised_data_Collection/Final_Normalised_DataSet.csv\")"
   ]
  },
  {
   "cell_type": "code",
   "execution_count": 3,
   "metadata": {
    "collapsed": true
   },
   "outputs": [],
   "source": [
    "labels = 'Label'\n",
    "features = [x for x in data.columns if x not in labels]"
   ]
  },
  {
   "cell_type": "code",
   "execution_count": 4,
   "metadata": {
    "collapsed": true
   },
   "outputs": [],
   "source": [
    "data_labels = data[labels]\n",
    "data_features = data[features]"
   ]
  },
  {
   "cell_type": "code",
   "execution_count": 5,
   "metadata": {
    "collapsed": true
   },
   "outputs": [],
   "source": [
    "from sklearn.model_selection import train_test_split\n",
    "features_train, features_testst, labels_train, labels_test = train_test_split(data_features, data_labels, test_size=0.33)"
   ]
  },
  {
   "cell_type": "code",
   "execution_count": 6,
   "metadata": {},
   "outputs": [
    {
     "name": "stdout",
     "output_type": "stream",
     "text": [
      "SVM Training Accuracy =  0.578080229226\n",
      "SVM Testing accuracy =  0.577207826547\n",
      "Testing Con Matrix SVM \n",
      "[[3533  589]\n",
      " [2609  833]]\n"
     ]
    }
   ],
   "source": [
    "from sklearn.svm import SVC\n",
    "clf=SVC(kernel = 'linear')\n",
    "clf.fit(features_train,labels_train)\n",
    "\n",
    "prediction_svm=clf.predict(features_train)\n",
    "accur = accuracy_score(prediction_svm, labels_train)\n",
    "print \"SVM Training Accuracy = \",accur\n",
    "\n",
    "prediction_svm = clf.predict(features_test)\n",
    "accur = accuracy_score(prediction_svm, labels_test)\n",
    "print \"SVM Testing accuracy = \",accur\n",
    "\n",
    "cnf_matrix_svm = confusion_matrix(labels_test, prediction_svm)\n",
    "print \"Testing Con Matrix SVM \\n\",cnf_matrix_svm"
   ]
  },
  {
   "cell_type": "code",
   "execution_count": 6,
   "metadata": {},
   "outputs": [
    {
     "name": "stdout",
     "output_type": "stream",
     "text": [
      "DT Training accuracy =  0.566488668924\n",
      "DT Testing accuracy =   0.568614489688\n",
      "Testing Con Matri DT \n",
      "[[1112 2974]\n",
      " [ 289 3189]]\n"
     ]
    }
   ],
   "source": [
    "from sklearn.tree import DecisionTreeClassifier\n",
    "clf = DecisionTreeClassifier()\n",
    "clf.fit(features_train,labels_train)\n",
    "\n",
    "prediction_dt=clf.predict(features_train)\n",
    "accur=accuracy_score(prediction_dt, labels_train)\n",
    "print \"DT Training accuracy = \",accur\n",
    "\n",
    "\n",
    "prediction_dt=clf.predict(features_test)\n",
    "accur=accuracy_score(prediction_dt, labels_test)\n",
    "print \"DT Testing accuracy =  \",accur\n",
    "\n",
    "\n",
    "cnf_matrix_dt = confusion_matrix(labels_test, prediction_dt)\n",
    "print \"Testing Con Matri DT \\n\",cnf_matrix_dt\n",
    "\n"
   ]
  },
  {
   "cell_type": "code",
   "execution_count": 9,
   "metadata": {
    "scrolled": true
   },
   "outputs": [
    {
     "name": "stdout",
     "output_type": "stream",
     "text": [
      "RF Training accuracy =  0.998958061995\n",
      "RF Testing accuracy =   0.936409307245\n",
      "Testing Con Matri RF \n",
      "[[3953  133]\n",
      " [ 348 3130]]\n"
     ]
    }
   ],
   "source": [
    "from sklearn.ensemble import RandomForestClassifier\n",
    "clf = RandomForestClassifier(random_state = 0)\n",
    "clf.fit(features_train,labels_train)\n",
    "\n",
    "prediction_rf=clf.predict(features_train)\n",
    "accur=accuracy_score(prediction_rf, labels_train)\n",
    "print \"RF Training accuracy = \",accur\n",
    "\n",
    "\n",
    "prediction_rf=clf.predict(features_test)\n",
    "accur=accuracy_score(prediction_rf, labels_test)\n",
    "print \"RF Testing accuracy =  \",accur\n",
    "\n",
    "\n",
    "cnf_matrix_rf = confusion_matrix(labels_test, prediction_rf)\n",
    "print \"Testing Con Matri RF \\n\",cnf_matrix_rf"
   ]
  },
  {
   "cell_type": "code",
   "execution_count": null,
   "metadata": {
    "collapsed": true
   },
   "outputs": [],
   "source": []
  }
 ],
 "metadata": {
  "kernelspec": {
   "display_name": "Python 2",
   "language": "python",
   "name": "python2"
  },
  "language_info": {
   "codemirror_mode": {
    "name": "ipython",
    "version": 2
   },
   "file_extension": ".py",
   "mimetype": "text/x-python",
   "name": "python",
   "nbconvert_exporter": "python",
   "pygments_lexer": "ipython2",
   "version": "2.7.13"
  }
 },
 "nbformat": 4,
 "nbformat_minor": 2
}
