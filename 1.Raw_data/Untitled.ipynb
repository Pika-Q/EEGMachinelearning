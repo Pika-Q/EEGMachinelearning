{
 "cells": [
  {
   "cell_type": "code",
   "execution_count": 4,
   "metadata": {
    "collapsed": true
   },
   "outputs": [],
   "source": [
    "import pandas as pd\n",
    "import csv"
   ]
  },
  {
   "cell_type": "code",
   "execution_count": 5,
   "metadata": {
    "collapsed": true
   },
   "outputs": [],
   "source": [
    "d1 = pd.read_csv(\"/media/joseph/New Volume/3.Projects/ARIES_EEG_Project/Raw_Data/New_data/Anil_Blink.csv\")\n",
    "d2 = pd.read_csv(\"/media/joseph/New Volume/3.Projects/ARIES_EEG_Project/Raw_Data/New_data/Anil_Claps.csv\")\n",
    "d3 = pd.read_csv(\"/media/joseph/New Volume/3.Projects/ARIES_EEG_Project/Raw_Data/New_data/Ansh_Blink.csv\")\n",
    "d4 = pd.read_csv(\"/media/joseph/New Volume/3.Projects/ARIES_EEG_Project/Raw_Data/New_data/Ansh_Claps.csv\")\n",
    "d5 = pd.read_csv(\"/media/joseph/New Volume/3.Projects/ARIES_EEG_Project/Raw_Data/New_data/Archit_Blink.csv\")\n",
    "d6 = pd.read_csv(\"/media/joseph/New Volume/3.Projects/ARIES_EEG_Project/Raw_Data/New_data/Archit_Claps.csv\")\n",
    "d7 = pd.read_csv(\"/media/joseph/New Volume/3.Projects/ARIES_EEG_Project/Raw_Data/New_data/Arpit_Blink.csv\")\n",
    "d8 = pd.read_csv(\"/media/joseph/New Volume/3.Projects/ARIES_EEG_Project/Raw_Data/New_data/Arpit_Claps.csv\")\n",
    "d9 = pd.read_csv(\"/media/joseph/New Volume/3.Projects/ARIES_EEG_Project/Raw_Data/New_data/Nitish_Blink.csv\")\n",
    "d10 = pd.read_csv(\"/media/joseph/New Volume/3.Projects/ARIES_EEG_Project/Raw_Data/New_data/Nitish_Claps.csv\") \n",
    "d11 = pd.read_csv(\"/media/joseph/New Volume/3.Projects/ARIES_EEG_Project/Raw_Data/New_data/Satyendra_Blink.csv\")\n",
    "d12 = pd.read_csv(\"/media/joseph/New Volume/3.Projects/ARIES_EEG_Project/Raw_Data/New_data/Satyendra_Claps.csv\")\n",
    "d13 = pd.read_csv(\"/media/joseph/New Volume/3.Projects/ARIES_EEG_Project/Raw_Data/New_data/Sushant_Blink.csv\")\n",
    "d14 = pd.read_csv(\"/media/joseph/New Volume/3.Projects/ARIES_EEG_Project/Raw_Data/New_data/Sushant_Claps.csv\")\n",
    "d15 = pd.read_csv(\"/media/joseph/New Volume/3.Projects/ARIES_EEG_Project/Raw_Data/New_data/Vipul_Blink.csv\")\n",
    "d16 = pd.read_csv(\"/media/joseph/New Volume/3.Projects/ARIES_EEG_Project/Raw_Data/New_data/Vipul_Claps.csv\")"
   ]
  },
  {
   "cell_type": "code",
   "execution_count": 6,
   "metadata": {
    "collapsed": true
   },
   "outputs": [],
   "source": [
    "frm = [d1, d2, d3, d4, d5, d6, d7, d8, d9, d10]"
   ]
  },
  {
   "cell_type": "code",
   "execution_count": 7,
   "metadata": {
    "collapsed": true
   },
   "outputs": [],
   "source": [
    "frm1 = [d11, d12, d13, d14, d15, d16]"
   ]
  },
  {
   "cell_type": "code",
   "execution_count": 8,
   "metadata": {
    "collapsed": true
   },
   "outputs": [],
   "source": [
    "r1 = pd.concat(frm)"
   ]
  },
  {
   "cell_type": "code",
   "execution_count": 9,
   "metadata": {
    "collapsed": true
   },
   "outputs": [],
   "source": [
    "r2 = pd.concat(frm1)"
   ]
  },
  {
   "cell_type": "code",
   "execution_count": 10,
   "metadata": {
    "collapsed": true
   },
   "outputs": [],
   "source": [
    "r1.to_csv(\"tr_data.csv\")\n",
    "r2.to_csv(\"ts_data.csv\")"
   ]
  }
 ],
 "metadata": {
  "kernelspec": {
   "display_name": "Python 2",
   "language": "python",
   "name": "python2"
  },
  "language_info": {
   "codemirror_mode": {
    "name": "ipython",
    "version": 2
   },
   "file_extension": ".py",
   "mimetype": "text/x-python",
   "name": "python",
   "nbconvert_exporter": "python",
   "pygments_lexer": "ipython2",
   "version": "2.7.13"
  }
 },
 "nbformat": 4,
 "nbformat_minor": 2
}
